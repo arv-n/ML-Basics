{
 "cells": [
  {
   "cell_type": "code",
   "execution_count": 49,
   "metadata": {
    "ipub": {
     "ignore": true
    },
    "scrolled": false
   },
   "outputs": [],
   "source": [
    "import numpy as np\n",
    "import pandas as pd\n",
    "import matplotlib.pyplot as plt\n",
    "from sklearn import tree\n",
    "from sklearn import ensemble\n",
    "from sklearn.metrics import r2_score,mean_squared_error\n",
    "from sklearn.model_selection import train_test_split\n",
    "from IPython.display import display, Markdown, Latex, Image\n",
    "from tabulate import tabulate\n",
    "import sys\n",
    "str1 = \"\"\n",
    "sys.path.append(str1)"
   ]
  },
  {
   "cell_type": "markdown",
   "metadata": {},
   "source": [
    "# Dataset"
   ]
  },
  {
   "cell_type": "code",
   "execution_count": 3,
   "metadata": {
    "scrolled": true
   },
   "outputs": [
    {
     "data": {
      "text/plain": [
       "(6624, 8)"
      ]
     },
     "metadata": {},
     "output_type": "display_data"
    }
   ],
   "source": [
    "# read as dataframe using pandas\n",
    "df = pd.read_excel('data.xls')\n",
    "display(df.shape)"
   ]
  },
  {
   "cell_type": "markdown",
   "metadata": {},
   "source": [
    "We load the dataset from the given 'data.xls' file. The dataset contains information about different shoes. As observed, we have $6624$ samples and $8$ variables or features in this example. \n",
    "\n",
    "**Our objective in this study is to predict the price of a shoe using the given features.**\n",
    "\n",
    "To get an idea of our dataset, we display the first 5 rows of our dataset. "
   ]
  },
  {
   "cell_type": "code",
   "execution_count": 4,
   "metadata": {
    "scrolled": false
   },
   "outputs": [
    {
     "data": {
      "text/markdown": [
       "|    | Type   | Shop   | On_Sale   | For    | Known_Brand   | Leather   | Color   |   Prijs |\n",
       "|---:|:-------|:-------|:----------|:-------|:--------------|:----------|:--------|--------:|\n",
       "|  0 | wedges | online | yes       | female | yes           | yes       | black   |   78.3  |\n",
       "|  1 | wedges | online | no        | female | yes           | yes       | black   |  209.25 |\n",
       "|  2 | wedges | online | yes       | female | yes           | yes       | brown   |   30.24 |\n",
       "|  3 | wedges | online | no        | female | yes           | yes       | brown   |  170.1  |\n",
       "|  4 | wedges | online | yes       | female | yes           | yes       | gray    |   74.25 |"
      ],
      "text/plain": [
       "<IPython.core.display.Markdown object>"
      ]
     },
     "metadata": {},
     "output_type": "display_data"
    }
   ],
   "source": [
    "\n",
    "display(Markdown(tabulate(df.head(), tablefmt=\"pipe\", headers=\"keys\")))"
   ]
  },
  {
   "cell_type": "code",
   "execution_count": 5,
   "metadata": {
    "ipub": {
     "ignore": true
    },
    "scrolled": true
   },
   "outputs": [
    {
     "data": {
      "text/markdown": [
       "* Type"
      ],
      "text/plain": [
       "<IPython.core.display.Markdown object>"
      ]
     },
     "metadata": {},
     "output_type": "display_data"
    },
    {
     "data": {
      "text/markdown": [
       "* Shop"
      ],
      "text/plain": [
       "<IPython.core.display.Markdown object>"
      ]
     },
     "metadata": {},
     "output_type": "display_data"
    },
    {
     "data": {
      "text/markdown": [
       "* On_Sale"
      ],
      "text/plain": [
       "<IPython.core.display.Markdown object>"
      ]
     },
     "metadata": {},
     "output_type": "display_data"
    },
    {
     "data": {
      "text/markdown": [
       "* For"
      ],
      "text/plain": [
       "<IPython.core.display.Markdown object>"
      ]
     },
     "metadata": {},
     "output_type": "display_data"
    },
    {
     "data": {
      "text/markdown": [
       "* Known_Brand"
      ],
      "text/plain": [
       "<IPython.core.display.Markdown object>"
      ]
     },
     "metadata": {},
     "output_type": "display_data"
    },
    {
     "data": {
      "text/markdown": [
       "* Leather"
      ],
      "text/plain": [
       "<IPython.core.display.Markdown object>"
      ]
     },
     "metadata": {},
     "output_type": "display_data"
    },
    {
     "data": {
      "text/markdown": [
       "* Color"
      ],
      "text/plain": [
       "<IPython.core.display.Markdown object>"
      ]
     },
     "metadata": {},
     "output_type": "display_data"
    },
    {
     "data": {
      "text/markdown": [
       "* Prijs"
      ],
      "text/plain": [
       "<IPython.core.display.Markdown object>"
      ]
     },
     "metadata": {},
     "output_type": "display_data"
    }
   ],
   "source": [
    "for d in df.columns:\n",
    "    display(Markdown('* '+d))"
   ]
  },
  {
   "cell_type": "markdown",
   "metadata": {},
   "source": [
    "**The prices of shoes indicated by the variable `Prijs` is our target variable** and the remaining are the predictors based on which we will predict the value of a test set.\n",
    "\n",
    "Hence, we use a Regression Tree based model with 7 predictors along with certain model improvements based on Ensemble methods like Bagging and Random Forests. \n",
    "\n",
    "We use `scikit-learn` libraries for constructing the models. "
   ]
  },
  {
   "cell_type": "markdown",
   "metadata": {},
   "source": [
    "# Default Regression Tree"
   ]
  },
  {
   "cell_type": "code",
   "execution_count": 6,
   "metadata": {
    "scrolled": true
   },
   "outputs": [],
   "source": [
    "def get_dummy(df):\n",
    "    dummy=df\n",
    "    for col in dummy.columns[:-1]:\n",
    "        set=dummy[col].unique()\n",
    "        tmp_dict = dict(zip(set,range(0,len(set))))\n",
    "        dummy[col] = dummy[col].map(tmp_dict)\n",
    "    return dummy"
   ]
  },
  {
   "cell_type": "code",
   "execution_count": 7,
   "metadata": {
    "scrolled": true
   },
   "outputs": [],
   "source": [
    "dummy = get_dummy(df)\n",
    "array = dummy.values"
   ]
  },
  {
   "cell_type": "code",
   "execution_count": 114,
   "metadata": {
    "scrolled": true
   },
   "outputs": [],
   "source": [
    "X=array[:,0:7] #predictors\n",
    "Y=array[:,7] #output"
   ]
  },
  {
   "cell_type": "markdown",
   "metadata": {},
   "source": [
    "We split the dataset and use $70\\%$ of it for training the regression tree model and the remaining $30\\%$ is kept for testing. "
   ]
  },
  {
   "cell_type": "code",
   "execution_count": 115,
   "metadata": {
    "scrolled": true
   },
   "outputs": [],
   "source": [
    "X_train,X_test,Y_train,Y_test = train_test_split(X,Y,test_size=0.3,random_state=1234)"
   ]
  },
  {
   "cell_type": "code",
   "execution_count": 116,
   "metadata": {
    "scrolled": true
   },
   "outputs": [
    {
     "data": {
      "text/markdown": [
       "Train size=4636 samples"
      ],
      "text/plain": [
       "<IPython.core.display.Markdown object>"
      ]
     },
     "metadata": {},
     "output_type": "display_data"
    },
    {
     "data": {
      "text/markdown": [
       "Test size=1988 samples"
      ],
      "text/plain": [
       "<IPython.core.display.Markdown object>"
      ]
     },
     "metadata": {},
     "output_type": "display_data"
    }
   ],
   "source": [
    "display(Markdown('Train size'+'='+str(X_train.shape[0])+' samples'))\n",
    "display(Markdown('Test size'+'='+str(X_test.shape[0])+ ' samples'))"
   ]
  },
  {
   "cell_type": "markdown",
   "metadata": {},
   "source": [
    "First, we check the prediction on the default implementation with no added improvements. `DecisionTreeRegressor()` function uses the minimizer over mean squared error criterion for finding the partitions."
   ]
  },
  {
   "cell_type": "code",
   "execution_count": 117,
   "metadata": {
    "scrolled": true
   },
   "outputs": [],
   "source": [
    "model = tree.DecisionTreeRegressor(random_state=1234)"
   ]
  },
  {
   "cell_type": "code",
   "execution_count": 118,
   "metadata": {
    "scrolled": true
   },
   "outputs": [],
   "source": [
    "rt = model.fit(X_train,Y_train)\n",
    "Yhat = rt.predict(X_train)"
   ]
  },
  {
   "cell_type": "code",
   "execution_count": 119,
   "metadata": {},
   "outputs": [
    {
     "data": {
      "text/markdown": [
       "Train accuracy=0.840852930196199"
      ],
      "text/plain": [
       "<IPython.core.display.Markdown object>"
      ]
     },
     "metadata": {},
     "output_type": "display_data"
    }
   ],
   "source": [
    "display(Markdown(\"Train accuracy=\"+str(rt.score(X_train,Y_train))))"
   ]
  },
  {
   "cell_type": "code",
   "execution_count": 120,
   "metadata": {
    "scrolled": false
   },
   "outputs": [],
   "source": [
    "Yhat = rt.predict(X_test)"
   ]
  },
  {
   "cell_type": "code",
   "execution_count": 121,
   "metadata": {},
   "outputs": [
    {
     "data": {
      "text/markdown": [
       "Test accuracy=0.7452518227601728"
      ],
      "text/plain": [
       "<IPython.core.display.Markdown object>"
      ]
     },
     "metadata": {},
     "output_type": "display_data"
    }
   ],
   "source": [
    "display(Markdown(\"Test accuracy=\"+str(rt.score(X_test,Y_test))))"
   ]
  },
  {
   "cell_type": "markdown",
   "metadata": {},
   "source": [
    "We use here the metric of $R^{2}$[^1] score to measure the prediction accuracy. As we see from above, the model does not yet perform well. \n",
    "\n",
    "[^1]: $R^{2} = 1 - \\frac{\\Sigma_{i=1}^{N}(Y_{i} - \\hat{Y}_{i})^{2}}{\\Sigma_{i=1}^{N}(Y_{i} - \\bar{Y}_{i})^{2}}$, where $\\hat{y}_i$  represents the predicted value of $y_i$ and $\\bar{y}$ is the mean of the observed data."
   ]
  },
  {
   "cell_type": "code",
   "execution_count": 98,
   "metadata": {},
   "outputs": [
    {
     "data": {
      "text/markdown": [
       "Also, note that the RMSE on the test dataset is 53.084315483289444"
      ],
      "text/plain": [
       "<IPython.core.display.Markdown object>"
      ]
     },
     "metadata": {},
     "output_type": "display_data"
    }
   ],
   "source": [
    "display(Markdown(\"Also, note that the RMSE on the test dataset is \"+str(mean_squared_error(Yhat,Y_test,squared=False))))"
   ]
  },
  {
   "cell_type": "markdown",
   "metadata": {},
   "source": [
    "## Pruning"
   ]
  },
  {
   "cell_type": "markdown",
   "metadata": {},
   "source": [
    "Let us now check the results with pruning. We use the Minimal cost complexity pruning approach as discussed in the Lecture. As $\\alpha$ increases, more of the tree is pruned. "
   ]
  },
  {
   "cell_type": "code",
   "execution_count": 65,
   "metadata": {},
   "outputs": [],
   "source": [
    "path = rt.cost_complexity_pruning_path(X_train,Y_train)\n",
    "ccp_alphas = path.ccp_alphas"
   ]
  },
  {
   "cell_type": "code",
   "execution_count": 66,
   "metadata": {},
   "outputs": [],
   "source": [
    "rts = []\n",
    "for ccp_alpha in ccp_alphas: \n",
    "    rt = tree.DecisionTreeRegressor(random_state=1234, ccp_alpha=ccp_alpha)\n",
    "    rt.fit(X_train,Y_train)\n",
    "    rts.append(rt)"
   ]
  },
  {
   "cell_type": "code",
   "execution_count": 73,
   "metadata": {},
   "outputs": [
    {
     "data": {
      "image/png": "[encoded data removed]",
      "text/plain": [
       "<Figure size 432x288 with 1 Axes>"
      ]
     },
     "metadata": {
      "needs_background": "light"
     },
     "output_type": "display_data"
    }
   ],
   "source": [
    "train_scores = [rt.score(X_train, Y_train) for rt in rts]\n",
    "test_scores = [rt.score(X_test, Y_test) for rt in rts]\n",
    "\n",
    "fig, ax = plt.subplots()\n",
    "ax.set_xlabel(\"alpha\")\n",
    "ax.set_ylabel(\"accuracy\")\n",
    "ax.set_title(\"Accuracy vs alpha for training and testing sets\")\n",
    "ax.plot(ccp_alphas, train_scores, marker='o', label=\"train\",\n",
    "        drawstyle=\"steps-post\")\n",
    "ax.plot(ccp_alphas, test_scores, marker='o', label=\"test\",\n",
    "        drawstyle=\"steps-post\")\n",
    "ax.legend()\n",
    "plt.show()"
   ]
  },
  {
   "cell_type": "markdown",
   "metadata": {},
   "source": [
    "Since the default model setting doesn't predict well, pruning seems to be ineffectual using in the model in the original settings, rather the accuracy worsens with the value $\\alpha$ increasing. The last element on the plot is the trivial case of 1 node, hence the accuracy shows a value close to zero. "
   ]
  },
  {
   "cell_type": "markdown",
   "metadata": {},
   "source": [
    "# Bagging and Random Forests"
   ]
  },
  {
   "cell_type": "markdown",
   "metadata": {},
   "source": [
    "Let us now see if bagging and random forests approaches improve upon the default Regression Tree model. We use `scikit-learn` implementation of Bagging, the `BaggingRegressor()` function with default settings."
   ]
  },
  {
   "cell_type": "code",
   "execution_count": 184,
   "metadata": {},
   "outputs": [
    {
     "name": "stderr",
     "output_type": "stream",
     "text": [
      "/home/arvind/lib/extlib/miniconda3/myenvs/climatenet/lib/python3.8/site-packages/sklearn/ensemble/_bagging.py:1069: UserWarning: Some inputs do not have OOB scores. This probably means too few estimators were used to compute any reliable oob estimates.\n",
      "  warn(\"Some inputs do not have OOB scores. \"\n"
     ]
    }
   ],
   "source": [
    "bagg_rt = ensemble.BaggingRegressor(random_state=1234,oob_score=True)\n",
    "bagg_rt = bagg_rt.fit(X_train,Y_train)\n",
    "Yhat = bagg_rt.predict(X_test)"
   ]
  },
  {
   "cell_type": "code",
   "execution_count": 186,
   "metadata": {},
   "outputs": [
    {
     "data": {
      "text/markdown": [
       "Train accuracy=0.8377975995550205"
      ],
      "text/plain": [
       "<IPython.core.display.Markdown object>"
      ]
     },
     "metadata": {},
     "output_type": "display_data"
    },
    {
     "data": {
      "text/markdown": [
       "Out of bag accuracy=0.7366532407722062"
      ],
      "text/plain": [
       "<IPython.core.display.Markdown object>"
      ]
     },
     "metadata": {},
     "output_type": "display_data"
    },
    {
     "data": {
      "text/markdown": [
       "Test accuracy=0.7394837625063259"
      ],
      "text/plain": [
       "<IPython.core.display.Markdown object>"
      ]
     },
     "metadata": {},
     "output_type": "display_data"
    },
    {
     "data": {
      "text/markdown": [
       "The RMSE on the test dataset is 53.681924577271026"
      ],
      "text/plain": [
       "<IPython.core.display.Markdown object>"
      ]
     },
     "metadata": {},
     "output_type": "display_data"
    }
   ],
   "source": [
    "display(Markdown(\"Train accuracy=\"+str(bagg_rt.score(X_train,Y_train))))\n",
    "display(Markdown(\"Out of bag accuracy=\"+str(bagg_rt.oob_score_)))\n",
    "display(Markdown(\"Test accuracy=\"+str(bagg_rt.score(X_test,Y_test))))\n",
    "display(Markdown(\"The RMSE on the test dataset is \"+str(mean_squared_error(Yhat,Y_test,squared=False))))"
   ]
  },
  {
   "cell_type": "markdown",
   "metadata": {},
   "source": [
    "Hence, with default settings, the bagging approach doesnt improve on the Regular Regression Tree model. Now, let us check with Random Forests with $m = \\sqrt{d}$, where $d$ is the number of predictors. "
   ]
  },
  {
   "cell_type": "code",
   "execution_count": 172,
   "metadata": {},
   "outputs": [],
   "source": [
    "rf_rt = ensemble.RandomForestRegressor(random_state=1234,max_features=\"sqrt\",oob_score=True)\n",
    "rf_rt = rf_rt.fit(X_train,Y_train)\n",
    "Yhat = rf_rt.predict(X_test)"
   ]
  },
  {
   "cell_type": "code",
   "execution_count": 182,
   "metadata": {},
   "outputs": [
    {
     "data": {
      "text/markdown": [
       "Train accuracy=0.8405189512754615"
      ],
      "text/plain": [
       "<IPython.core.display.Markdown object>"
      ]
     },
     "metadata": {},
     "output_type": "display_data"
    },
    {
     "data": {
      "text/markdown": [
       "Out of bag accuracy=0.7742454839033515"
      ],
      "text/plain": [
       "<IPython.core.display.Markdown object>"
      ]
     },
     "metadata": {},
     "output_type": "display_data"
    },
    {
     "data": {
      "text/markdown": [
       "Test accuracy=0.74587252328458"
      ],
      "text/plain": [
       "<IPython.core.display.Markdown object>"
      ]
     },
     "metadata": {},
     "output_type": "display_data"
    }
   ],
   "source": [
    "display(Markdown(\"Train accuracy=\"+str(rf_rt.score(X_train,Y_train))))\n",
    "display(Markdown(\"Out of bag accuracy=\"+str(rf_rt.oob_score_)))\n",
    "display(Markdown(\"Test accuracy=\"+str(rf_rt.score(X_test,Y_test))))"
   ]
  },
  {
   "cell_type": "markdown",
   "metadata": {},
   "source": [
    "Hence, there is a marked improvement in the case of Random Forest on the unseen training dataset (out of bag estimate), and a slight improvement on the test dataset. "
   ]
  },
  {
   "cell_type": "markdown",
   "metadata": {},
   "source": [
    "## Performance"
   ]
  },
  {
   "cell_type": "markdown",
   "metadata": {},
   "source": [
    "We compare the test error estimates in the above 2 cases with respect to tree sizes"
   ]
  },
  {
   "cell_type": "code",
   "execution_count": null,
   "metadata": {},
   "outputs": [],
   "source": [
    "test_scores_bag = []\n",
    "test_scores_rf = []\n",
    "size = []\n",
    "for s in range(1,200):\n",
    "    size.append(s)\n",
    "    bagg_rt = ensemble.BaggingRegressor(random_state=1234,n_estimators = s, oob_score=True).fit(X_train,Y_train)\n",
    "    rf_rt = ensemble.RandomForestRegressor(random_state=1234,n_estimators = s, max_features=\"sqrt\",oob_score=True).fit(X_train,Y_train)\n",
    "    test_scores_bag.append(bagg_rt.score(X_test,Y_test))\n",
    "    test_scores_rf.append(rf_rt.score(X_test,Y_test))"
   ]
  },
  {
   "cell_type": "code",
   "execution_count": 199,
   "metadata": {},
   "outputs": [
    {
     "data": {
      "image/png": "[encoded data removed]",
      "text/plain": [
       "<Figure size 432x288 with 1 Axes>"
      ]
     },
     "metadata": {
      "needs_background": "light"
     },
     "output_type": "display_data"
    }
   ],
   "source": [
    "fig, ax = plt.subplots()\n",
    "ax.set_xlabel(\"Tree size\")\n",
    "ax.set_ylabel(\"accuracy\")\n",
    "ax.set_title(\"Test Accuracy vs Tree for Bagging and Random Forests\")\n",
    "ax.plot(size[1:], test_scores_bag[1:], marker='o', label=\"Bagging\",\n",
    "        drawstyle=\"steps-post\")\n",
    "ax.plot(size[1:], test_scores_rf[1:], marker='o', label=\"Random Forests\",\n",
    "        drawstyle=\"steps-post\")\n",
    "ax.set_yscale('log')\n",
    "ax.legend()\n",
    "plt.show()"
   ]
  },
  {
   "cell_type": "code",
   "execution_count": 200,
   "metadata": {},
   "outputs": [
    {
     "data": {
      "image/png": "[encoded data removed]",
      "text/plain": [
       "<Figure size 432x288 with 1 Axes>"
      ]
     },
     "metadata": {
      "needs_background": "light"
     },
     "output_type": "display_data"
    }
   ],
   "source": [
    "fig, ax = plt.subplots()\n",
    "ax.set_xlabel(\"Tree size\")\n",
    "ax.set_ylabel(\"accuracy\")\n",
    "ax.set_title(\"Test Accuracy vs Tree for Bagging and Random Forests (Ignoring first 50 sizes)\")\n",
    "ax.plot(size[50:], test_scores_bag[50:], marker='o', label=\"Bagging\",\n",
    "        drawstyle=\"steps-post\")\n",
    "ax.plot(size[50:], test_scores_rf[50:], marker='o', label=\"Random Forests\",\n",
    "        drawstyle=\"steps-post\")\n",
    "ax.set_yscale('log')\n",
    "ax.legend()\n",
    "plt.show()"
   ]
  },
  {
   "cell_type": "markdown",
   "metadata": {},
   "source": [
    "The performance of both the models show similar trends, eventhough Random Forests performs better with a slight margin. This can be seen in the latter figure, where Random Forest approach always lies with or below the Bagging accuracy samples. \n",
    "\n",
    "Note: Due to the computational complexity, we restricted the Tree size sampling to only 200. We expect a better performance by Random Forest model as we increase the tree sizes even further."
   ]
  },
  {
   "cell_type": "markdown",
   "metadata": {},
   "source": [
    "## Variable Importance"
   ]
  },
  {
   "cell_type": "markdown",
   "metadata": {},
   "source": [
    "In the cases of a default Regression Tree and Random Forests model, we analyze the resulting predictor importance."
   ]
  },
  {
   "cell_type": "code",
   "execution_count": 204,
   "metadata": {},
   "outputs": [
    {
     "data": {
      "text/plain": [
       "<BarContainer object of 7 artists>"
      ]
     },
     "execution_count": 204,
     "metadata": {},
     "output_type": "execute_result"
    },
    {
     "data": {
      "image/png": "[encoded data removed]",
      "text/plain": [
       "<Figure size 432x288 with 1 Axes>"
      ]
     },
     "metadata": {
      "needs_background": "light"
     },
     "output_type": "display_data"
    }
   ],
   "source": [
    "rt_imp=rt.feature_importances_\n",
    "plt.bar([x for x in range(len(rt_imp))],rt_imp)"
   ]
  },
  {
   "cell_type": "code",
   "execution_count": 205,
   "metadata": {},
   "outputs": [
    {
     "data": {
      "text/plain": [
       "<BarContainer object of 7 artists>"
      ]
     },
     "execution_count": 205,
     "metadata": {},
     "output_type": "execute_result"
    },
    {
     "data": {
      "image/png": "[encoded data removed]",
      "text/plain": [
       "<Figure size 432x288 with 1 Axes>"
      ]
     },
     "metadata": {
      "needs_background": "light"
     },
     "output_type": "display_data"
    }
   ],
   "source": [
    "rf_imp=rf_rt.feature_importances_\n",
    "plt.bar([x for x in range(len(rf_imp))],rf_imp)"
   ]
  },
  {
   "cell_type": "markdown",
   "metadata": {},
   "source": [
    "Both models show similar results, predictor 0 or `Type` of the shoe has the maximum effect on the price observed, followed by the variable that indicates whether the shoe is on `On_Sale` or not.(seems intuitve!) Attributes like `Brand` and `Leather` have minor influences followed by the rest. "
   ]
  }
 ],
 "metadata": {
  "celltoolbar": "Edit Metadata",
  "kernelspec": {
   "display_name": "Python [conda env:climatenet]",
   "language": "python",
   "name": "conda-env-climatenet-py"
  },
  "language_info": {
   "codemirror_mode": {
    "name": "ipython",
    "version": 3
   },
   "file_extension": ".py",
   "mimetype": "text/x-python",
   "name": "python",
   "nbconvert_exporter": "python",
   "pygments_lexer": "ipython3",
   "version": "3.8.5"
  },
  "latex_metadata": {
   "author": "Arvind Nayak",
   "bib": "notebook.bib",
   "title": "Assigment-3 (CaRT)"
  }
 },
 "nbformat": 4,
 "nbformat_minor": 4
}
